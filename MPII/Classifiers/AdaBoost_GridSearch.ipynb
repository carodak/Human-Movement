{
  "nbformat": 4,
  "nbformat_minor": 0,
  "metadata": {
    "colab": {
      "name": "AdaBoost Human Movement_categories_euclidean.ipynb",
      "version": "0.3.2",
      "provenance": [],
      "collapsed_sections": []
    },
    "kernelspec": {
      "name": "python3",
      "display_name": "Python 3"
    },
    "accelerator": "GPU"
  },
  "cells": [
    {
      "metadata": {
        "id": "oPCFjcUPXtHx",
        "colab_type": "code",
        "colab": {}
      },
      "cell_type": "code",
      "source": [
        "\n",
        "# Load the pickle file.\n",
        "import numpy as np\n",
        "from sklearn.ensemble import AdaBoostClassifier\n",
        "import os\n",
        "from sklearn.model_selection import GridSearchCV\n",
        "import pandas as pd\n",
        "from sklearn.learning_curve import learning_curve\n",
        "import matplotlib.pyplot as plt\n",
        "from sklearn.model_selection import validation_curve\n",
        "from sklearn.model_selection import ShuffleSplit\n",
        "import pickle\n"
      ],
      "execution_count": 0,
      "outputs": []
    },
    {
      "metadata": {
        "id": "Diov5bskY6nY",
        "colab_type": "text"
      },
      "cell_type": "markdown",
      "source": [
        ""
      ]
    },
    {
      "metadata": {
        "id": "nN0Z3jaWYzJV",
        "colab_type": "code",
        "outputId": "8000106a-8c55-43f4-c857-6d46302458f4",
        "colab": {
          "base_uri": "https://localhost:8080/",
          "height": 122
        }
      },
      "cell_type": "code",
      "source": [
        "from google.colab import drive\n",
        "drive.mount('/content/drive')\n"
      ],
      "execution_count": 3,
      "outputs": [
        {
          "output_type": "stream",
          "text": [
            "Go to this URL in a browser: https://accounts.google.com/o/oauth2/auth?client_id=947318989803-6bn6qk8qdgf4n4g3pfee6491hc0brc4i.apps.googleusercontent.com&redirect_uri=urn%3Aietf%3Awg%3Aoauth%3A2.0%3Aoob&scope=email%20https%3A%2F%2Fwww.googleapis.com%2Fauth%2Fdocs.test%20https%3A%2F%2Fwww.googleapis.com%2Fauth%2Fdrive%20https%3A%2F%2Fwww.googleapis.com%2Fauth%2Fdrive.photos.readonly%20https%3A%2F%2Fwww.googleapis.com%2Fauth%2Fpeopleapi.readonly&response_type=code\n",
            "\n",
            "Enter your authorization code:\n",
            "··········\n",
            "Mounted at /content/drive\n"
          ],
          "name": "stdout"
        }
      ]
    },
    {
      "metadata": {
        "id": "mhcLh1v1Zpw2",
        "colab_type": "code",
        "outputId": "b06a4ac1-fc22-4676-8e2e-df335fbda3a5",
        "colab": {
          "base_uri": "https://localhost:8080/",
          "height": 2601
        }
      },
      "cell_type": "code",
      "source": [
        "!ls \"/content/drive/My Drive\""
      ],
      "execution_count": 0,
      "outputs": [
        {
          "output_type": "stream",
          "text": [
            "'20180606_132837 (1).jpg'\n",
            " 20180606_132837.jpg\n",
            "'20180606_132843 (1).jpg'\n",
            " 20180606_132843.jpg\n",
            "'20180606_132849 (1).jpg'\n",
            " 20180606_132849.jpg\n",
            "'20180606_132921 (1).jpg'\n",
            " 20180606_132921.jpg\n",
            "'20180606_132924 (1).jpg'\n",
            " 20180606_132924.jpg\n",
            "'20180606_132930 (1).jpg'\n",
            " 20180606_132930.jpg\n",
            "'20180606_132933 (1).jpg'\n",
            " 20180606_132933.jpg\n",
            "'20180606_132938 (1).jpg'\n",
            " 20180606_132938.jpg\n",
            "'20180606_132941 (1).jpg'\n",
            " 20180606_132941.jpg\n",
            "'20180608_152951 (1).jpg'\n",
            " 20180608_152951.jpg\n",
            "'20180610_174742 (1).jpg'\n",
            " 20180610_174742.jpg\n",
            "'20180610_174802 (1).jpg'\n",
            " 20180610_174802.jpg\n",
            "'20180610_174811 (1).jpg'\n",
            " 20180610_174811.jpg\n",
            "'20180610_174814 (1).jpg'\n",
            " 20180610_174814.jpg\n",
            "'20180610_174837 (1).jpg'\n",
            " 20180610_174837.jpg\n",
            "'20180610_174841 (1).jpg'\n",
            " 20180610_174841.jpg\n",
            "'20180610_174842 (1).jpg'\n",
            " 20180610_174842.jpg\n",
            "'20180610_174846 (1).jpg'\n",
            " 20180610_174846.jpg\n",
            "'20180610_174851 (1).jpg'\n",
            " 20180610_174851.jpg\n",
            "'20180610_174909 (1).jpg'\n",
            " 20180610_174909.jpg\n",
            " 20180611_141711.jpg\n",
            "'20180611_171958 (1).jpg'\n",
            " 20180611_171958.jpg\n",
            " 20180611_232400.jpg\n",
            " 20180611_232408.jpg\n",
            " 20180612_002131.jpg\n",
            " 20180612_122927.jpg\n",
            " 20180612_123109.jpg\n",
            " 20180612_171724.mp4\n",
            "'20180613_131842 (1).jpg'\n",
            " 20180613_131842.jpg\n",
            "'20180613_131845 (1).jpg'\n",
            " 20180613_131845.jpg\n",
            "'20180613_131847 (1).jpg'\n",
            " 20180613_131847.jpg\n",
            "'20180617_001536 (1).jpg'\n",
            " 20180617_001536.jpg\n",
            " 20180617_131125.jpg\n",
            " androides.zip\n",
            "'Colab Notebooks'\n",
            " COMP521\n",
            "'Contact Information.gform'\n",
            "'Copy of One Page Game Design Document Template.gdoc'\n",
            "'Copy of v7_CA_Beyond the landscape of personal information disclosure.gform'\n",
            "'Copy of v7_US_Beyond the landscape of personal information disclosure.gform'\n",
            " Defenestration_Julie.gdoc\n",
            " Defenestration_Julie.pdf\n",
            "'Elicitation of User Information disclosure behaviour.gform'\n",
            " ex\n",
            " Exam.zip\n",
            "'IFT 6390 Apprentissage machine'\n",
            "'IFT6390 - HW4'\n",
            " IMG_20181105_165633.jpg\n",
            " IMG_20181105_165642.jpg\n",
            " IMG_20181105_165701.jpg\n",
            " IMG_20181105_165709.jpg\n",
            " IMG_20181105_165716.jpg\n",
            "\"Je t'aime Papa\"\n",
            "'Mid term ML6390'\n",
            "'Mon chez moi dans le futur'\n",
            " Papiers\n",
            "' (Responses).gsheet'\n",
            " Screenshot_20180429-002030.png\n",
            " Screenshot_20180429-002032.png\n",
            " Screenshot_20180429-005943.png\n",
            " Screenshot_20180429-005950.png\n",
            " Screenshot_20180429-010008.png\n",
            " Screenshot_20180429-010025.png\n",
            " Screenshot_20180430-141553.png\n",
            " Screenshot_20180503-172903.png\n",
            " Screenshot_20180503-175833.png\n",
            " Screenshot_20180508-144336.png\n",
            " Screenshot_20180508-144340.png\n",
            " Screenshot_20180508-145930.png\n",
            " Screenshot_20180508-145934.png\n",
            " Screenshot_20180508-145938.png\n",
            " Screenshot_20180508-145942.png\n",
            " Screenshot_20180508-150413.png\n",
            " Screenshot_20180508-150430.png\n",
            " Screenshot_20180508-174447.png\n",
            " Screenshot_20180508-174511.png\n",
            " Screenshot_20180509-103050.png\n",
            " Screenshot_20180509-103633.png\n",
            " Screenshot_20180509-103701.png\n",
            " Screenshot_20180509-104248.png\n",
            " Screenshot_20180514-171234.png\n",
            " Screenshot_20180515-022739.png\n",
            " Screenshot_20180515-123441.png\n",
            " Screenshot_20180516-131111.png\n",
            " Screenshot_20180516-131125.png\n",
            " Screenshot_20180516-131130.png\n",
            " Screenshot_20180516-131214.png\n",
            " Screenshot_20180517-145707.png\n",
            " Screenshot_20180517-145724.png\n",
            " Screenshot_20180517-145741.png\n",
            " Screenshot_20180518-105844.png\n",
            " Screenshot_20180519-211937.png\n",
            " Screenshot_20180519-211940.png\n",
            " Screenshot_20180519-212307.png\n",
            " Screenshot_20180519-212330.png\n",
            " Screenshot_20180519-212333.png\n",
            " Screenshot_20180519-234255.png\n",
            " Screenshot_20180522-143416.png\n",
            " Screenshot_20180524-143835.png\n",
            " Screenshot_20180524-143925.png\n",
            " Screenshot_20180524-143935.png\n",
            " Screenshot_20180524-143940.png\n",
            " Screenshot_20180524-143946.png\n",
            " Screenshot_20180525-111027.png\n",
            " Screenshot_20180525-111204.png\n",
            " Screenshot_20180525-174305.png\n",
            " Screenshot_20180525-174313.png\n",
            " Screenshot_20180526-140650.png\n",
            " Screenshot_20180526-140955.png\n",
            " Screenshot_20180527-011237.png\n",
            " Screenshot_20180527-011302.png\n",
            " Screenshot_20180602-143447.png\n",
            " Screenshot_20180603-175533.png\n",
            " Screenshot_20180603-175808.png\n",
            " Screenshot_20180603-175957.png\n",
            " Screenshot_20180603-180147.png\n",
            " Universe.Sandbox.2.v20.0.13+VR.zip\n",
            "'Untitled form.gform'\n",
            "'v2_Elicitation of User Information disclosure behaviour.gform'\n",
            "'v3_Elicitation of User Information disclosure behaviour.gform'\n",
            "'v4_Elicitation of User Information disclosure behaviour.gform'\n",
            "'v6_Beyond the landscape of personal information disclosure.gform'\n",
            "'v7_Beyond the landscape of personal information disclosure.gform'\n",
            "'v7_CA_Beyond the landscape of personal information disclosure.gform'\n",
            "'v7_US_Beyond the landscape of personal information disclosure.gform'\n",
            " Vente\n",
            " Voyages\n"
          ],
          "name": "stdout"
        }
      ]
    },
    {
      "metadata": {
        "id": "sCOzW4Zln2nO",
        "colab_type": "code",
        "colab": {
          "base_uri": "https://localhost:8080/",
          "height": 51
        },
        "outputId": "eaa06ea2-7783-4e0a-d2ad-564f9e72fd26"
      },
      "cell_type": "code",
      "source": [
        "categories = pickle.load( open( \"/content/drive/My Drive/Colab Notebooks/MPII_dataset_label_categories.p\", \"rb\" ) )\n",
        "\n",
        "dataset = pickle.load( open(\"/content/drive/My Drive/Colab Notebooks/MPII_dataset.p\", \"rb\" ) )\n",
        "num_examples = len(dataset)\n",
        "X = np.reshape(dataset, (num_examples, 32))\n",
        "\n",
        "print(\"Classyfying dataset = joints coordinates ...\")\n",
        "\n",
        "#Let's define the GridSearch\n",
        "parameters = {'n_estimators':range(500, 1900, 200),'learning_rate':[0.01,0.001,0.0001]}\n",
        "\n",
        "abc = AdaBoostClassifier()\n",
        "  \n",
        "clf = GridSearchCV(abc, parameters, cv=5)\n",
        "clf.fit(X,categories)\n",
        "clf.cv_results_\n",
        "print(\"Best Score:\", clf.best_score_,\" / Best parameters:\", clf.best_params_)"
      ],
      "execution_count": 11,
      "outputs": [
        {
          "output_type": "stream",
          "text": [
            "Classyfying dataset = joints coordinates ...\n",
            "Best Score: 0.24759582360214316  / Best parameters: {'learning_rate': 0.001, 'n_estimators': 500}\n"
          ],
          "name": "stdout"
        }
      ]
    },
    {
      "metadata": {
        "id": "CMKp19UQXznU",
        "colab_type": "code",
        "outputId": "021b4491-17d0-47dc-c270-c0b9f2fd5699",
        "colab": {
          "base_uri": "https://localhost:8080/",
          "height": 34
        }
      },
      "cell_type": "code",
      "source": [
        "distance_euc = pickle.load( open(\"/content/drive/My Drive/Colab Notebooks/MPII_dataset_euclidean_distance.p\", \"rb\" ) )\n",
        "num_examples = distance_euc.shape[0]\n",
        "X = np.reshape(distance_euc, (num_examples, 16*16))\n",
        "\n",
        "\n",
        "\n",
        "print(\"Classyfying dataset = euclidean distance ...\")\n",
        "\n",
        "#Let's define the GridSearch\n",
        "parameters = {'n_estimators':range(500, 1900, 200),'learning_rate':[0.01,0.001,0.0001]}\n",
        "\n",
        "abc = AdaBoostClassifier()\n",
        "  \n",
        "clf = GridSearchCV(abc, parameters, cv=5)\n",
        "clf.fit(X,categories)\n",
        "clf.cv_results_\n",
        "print(\"Best Score:\", clf.best_score_,\" / Best parameters:\", clf.best_params_)"
      ],
      "execution_count": 0,
      "outputs": [
        {
          "output_type": "stream",
          "text": [
            "Classyfying dataset = euclidean distance ...\n"
          ],
          "name": "stdout"
        }
      ]
    },
    {
      "metadata": {
        "id": "nLiXl6zXZixW",
        "colab_type": "code",
        "colab": {}
      },
      "cell_type": "code",
      "source": [
        "distance_min_p1 = pickle.load( open( \"/content/drive/My Drive/Colab Notebooks/MPII_dataset_minkowski_p1.p\", \"rb\" ) )\n",
        "num_examples = distance_min_p1.shape[0]\n",
        "X = np.reshape(distance_min_p1, (num_examples, 16*16))\n",
        "\n",
        "print(\"Classyfying dataset = minkowski p=1 ...\")\n",
        "\n",
        "#Let's define the GridSearch\n",
        "parameters = {'n_estimators':range(500, 1900, 200),'learning_rate':[0.01,0.001,0.0001]}\n",
        "\n",
        "abc = AdaBoostClassifier()\n",
        "  \n",
        "clf = GridSearchCV(abc, parameters, cv=5)\n",
        "clf.fit(X,categories)\n",
        "clf.cv_results_\n",
        "print(\"Best Score:\", clf.best_score_,\" / Best parameters:\", clf.best_params_)"
      ],
      "execution_count": 0,
      "outputs": []
    },
    {
      "metadata": {
        "id": "Wt4q6EUCYcu5",
        "colab_type": "code",
        "colab": {}
      },
      "cell_type": "code",
      "source": [
        "distance_min_p3 = pickle.load( open( \"/content/drive/My Drive/Colab Notebooks/MPII_dataset_minkowski_p3.p\", \"rb\" ) )\n",
        "num_examples = distance_min_p3.shape[0]\n",
        "X = np.reshape(distance_min_p3, (num_examples, 16*16))\n",
        "\n",
        "print(\"Classyfying dataset = minkowski p=3 ...\")\n",
        "\n",
        "#Let's define the GridSearch\n",
        "parameters = {'n_estimators':range(500, 1900, 200),'learning_rate':[0.01,0.001,0.0001]}\n",
        "\n",
        "abc = AdaBoostClassifier()\n",
        "  \n",
        "clf = GridSearchCV(abc, parameters, cv=5)\n",
        "clf.fit(X,categories)\n",
        "clf.cv_results_\n",
        "print(\"Best Score:\", clf.best_score_,\" / Best parameters:\", clf.best_params_)"
      ],
      "execution_count": 0,
      "outputs": []
    },
    {
      "metadata": {
        "id": "ihRLSooAYb3D",
        "colab_type": "code",
        "colab": {}
      },
      "cell_type": "code",
      "source": [
        "distance_cos = pickle.load( open( \"/content/drive/My Drive/Colab Notebooks/MPII_dataset_cosine.p\", \"rb\" ) )\n",
        "num_examples = distance_cos.shape[0]\n",
        "X = np.reshape(distance_cos, (num_examples, 16*16))\n",
        "\n",
        "print(\"Classyfying dataset = cosinus ...\")\n",
        "\n",
        "#Let's define the GridSearch\n",
        "parameters = {'n_estimators':range(500, 1900, 200),'learning_rate':[0.01,0.001,0.0001]}\n",
        "\n",
        "abc = AdaBoostClassifier()\n",
        "  \n",
        "clf = GridSearchCV(abc, parameters, cv=5)\n",
        "clf.fit(X,categories)\n",
        "clf.cv_results_\n",
        "print(\"Best Score:\", clf.best_score_,\" / Best parameters:\", clf.best_params_)\n"
      ],
      "execution_count": 0,
      "outputs": []
    }
  ]
}