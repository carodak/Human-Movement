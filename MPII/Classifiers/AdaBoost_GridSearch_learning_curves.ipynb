{
  "nbformat": 4,
  "nbformat_minor": 0,
  "metadata": {
    "colab": {
      "name": "AdaBoost_GridSearch_learning_curves",
      "version": "0.3.2",
      "provenance": [],
      "collapsed_sections": []
    },
    "kernelspec": {
      "name": "python3",
      "display_name": "Python 3"
    },
    "accelerator": "GPU"
  },
  "cells": [
    {
      "metadata": {
        "id": "oPCFjcUPXtHx",
        "colab_type": "code",
        "colab": {}
      },
      "cell_type": "code",
      "source": [
        "\n",
        "# Load the pickle file.\n",
        "import numpy as np\n",
        "from sklearn.ensemble import AdaBoostClassifier\n",
        "import os\n",
        "from sklearn.model_selection import GridSearchCV\n",
        "import pandas as pd\n",
        "from sklearn.learning_curve import learning_curve\n",
        "import matplotlib.pyplot as plt\n",
        "from sklearn.model_selection import validation_curve\n",
        "from sklearn.model_selection import ShuffleSplit\n",
        "import pickle\n",
        "import numpy.ma as ma"
      ],
      "execution_count": 0,
      "outputs": []
    },
    {
      "metadata": {
        "id": "Diov5bskY6nY",
        "colab_type": "text"
      },
      "cell_type": "markdown",
      "source": [
        ""
      ]
    },
    {
      "metadata": {
        "id": "nN0Z3jaWYzJV",
        "colab_type": "code",
        "outputId": "5cd44c49-739a-4b7d-9cbf-2025394995b2",
        "colab": {
          "base_uri": "https://localhost:8080/",
          "height": 122
        }
      },
      "cell_type": "code",
      "source": [
        "from google.colab import drive\n",
        "drive.mount('/content/drive')\n"
      ],
      "execution_count": 23,
      "outputs": [
        {
          "output_type": "stream",
          "text": [
            "Go to this URL in a browser: https://accounts.google.com/o/oauth2/auth?client_id=947318989803-6bn6qk8qdgf4n4g3pfee6491hc0brc4i.apps.googleusercontent.com&redirect_uri=urn%3Aietf%3Awg%3Aoauth%3A2.0%3Aoob&scope=email%20https%3A%2F%2Fwww.googleapis.com%2Fauth%2Fdocs.test%20https%3A%2F%2Fwww.googleapis.com%2Fauth%2Fdrive%20https%3A%2F%2Fwww.googleapis.com%2Fauth%2Fdrive.photos.readonly%20https%3A%2F%2Fwww.googleapis.com%2Fauth%2Fpeopleapi.readonly&response_type=code\n",
            "\n",
            "Enter your authorization code:\n",
            "··········\n",
            "Mounted at /content/drive\n"
          ],
          "name": "stdout"
        }
      ]
    },
    {
      "metadata": {
        "id": "mhcLh1v1Zpw2",
        "colab_type": "code",
        "colab": {}
      },
      "cell_type": "code",
      "source": [
        "#!ls \"/content/drive/My Drive\""
      ],
      "execution_count": 0,
      "outputs": []
    },
    {
      "metadata": {
        "id": "sCOzW4Zln2nO",
        "colab_type": "code",
        "colab": {}
      },
      "cell_type": "code",
      "source": [
        "def plot_grid_search(cv_results, grid_param_1, grid_param_2, name_param_1, name_param_2):\n",
        "    # Get Test Scores Mean and std for each grid search\n",
        "    scores_mean = cv_results['mean_test_score']\n",
        "    scores_mean = np.array(scores_mean).reshape(len(grid_param_2),len(grid_param_1))\n",
        "\n",
        "    scores_sd = cv_results['std_test_score']\n",
        "    scores_sd = np.array(scores_sd).reshape(len(grid_param_2),len(grid_param_1))\n",
        "\n",
        "    # Plot Grid search scores\n",
        "    _, ax = plt.subplots(1,1)\n",
        "\n",
        "    # Param1 is the X-axis, Param 2 is represented as a different curve (color line)\n",
        "    for idx, val in enumerate(grid_param_2):\n",
        "        ax.plot(grid_param_1, scores_mean[idx,:], '-o', label= name_param_2 + ': ' + str(val))\n",
        "\n",
        "    ax.set_title(\"Grid Search Scores\", fontsize=20, fontweight='bold')\n",
        "    ax.set_xlabel(name_param_1, fontsize=16)\n",
        "    ax.set_ylabel('CV Average Score', fontsize=16)\n",
        "    ax.legend(loc=\"best\", fontsize=15)\n",
        "    ax.grid('on')\n",
        "\n"
      ],
      "execution_count": 0,
      "outputs": []
    },
    {
      "metadata": {
        "id": "7vP5bHc4fs2G",
        "colab_type": "code",
        "colab": {}
      },
      "cell_type": "code",
      "source": [
        "parameters = {'n_estimators':range(500, 1900, 200),'learning_rate':[0.01,0.001,0.0001]}"
      ],
      "execution_count": 0,
      "outputs": []
    },
    {
      "metadata": {
        "id": "LNgCzszTMROJ",
        "colab_type": "code",
        "colab": {}
      },
      "cell_type": "code",
      "source": [
        "categories = pickle.load( open( \"/content/drive/My Drive/Colab Notebooks/MPII_dataset_label_categories.p\", \"rb\" ) )"
      ],
      "execution_count": 0,
      "outputs": []
    },
    {
      "metadata": {
        "id": "QaE-bpwbJsg6",
        "colab_type": "code",
        "colab": {
          "base_uri": "https://localhost:8080/",
          "height": 34
        },
        "outputId": "104f64d2-541a-4497-b3e4-fb179540bfca"
      },
      "cell_type": "code",
      "source": [
        "dataset = pickle.load( open(\"/content/drive/My Drive/Colab Notebooks/MPII_dataset.p\", \"rb\" ) )\n",
        "num_examples = len(dataset)\n",
        "X = np.reshape(dataset, (num_examples, 32))\n",
        "\n",
        "print(\"Classyfying dataset = MPII joins ...\")\n",
        "abc = AdaBoostClassifier()\n",
        "\n",
        "clf = GridSearchCV(abc, parameters, cv=5,return_train_score=True)\n",
        "clf.fit(X,categories)\n",
        "print(\"Best Score:\", clf.best_score_,\" / Best parameters:\", clf.best_params_, \"/clf_results: \",clf.cv_results_)"
      ],
      "execution_count": 0,
      "outputs": [
        {
          "output_type": "stream",
          "text": [
            "Classyfying dataset = MPII joins ...\n"
          ],
          "name": "stdout"
        }
      ]
    },
    {
      "metadata": {
        "id": "7NWbDdZvd6Cj",
        "colab_type": "code",
        "colab": {}
      },
      "cell_type": "code",
      "source": [
        "#Saved cv_results to avoid running the GridSearch again\n",
        "cv_results_ = {'mean_fit_time': np.array([ 54.30315042,  75.75153332,  97.3941679 , 119.45081892,\n",
        "       140.7851253 , 162.50899611, 182.99666119,  53.82593617,\n",
        "        75.21734209,  96.83112974, 118.2372118 , 140.36338859,\n",
        "       161.28087273, 183.29340982,  54.1701354 ,  75.62070403,\n",
        "        97.40009246, 118.84078879, 140.60621076, 162.40588207,\n",
        "       183.50912085]), 'std_fit_time': np.array([0.25797666, 0.21637478, 0.34738003, 0.32632054, 0.33233407,\n",
        "       0.24819368, 0.48011587, 0.17959413, 0.28134078, 0.36668809,\n",
        "       0.37597506, 0.48039781, 0.41724943, 0.83603115, 0.23411701,\n",
        "       0.26402584, 0.33291373, 0.12770447, 0.09630257, 0.42958737,\n",
        "       0.56036865]), 'mean_score_time': np.array([2.09542017, 2.93256125, 3.79801588, 4.6500711 , 5.4520752 ,\n",
        "       6.31652436, 7.10395746, 2.07005544, 2.89694295, 3.72069917,\n",
        "       4.53364058, 5.40309315, 6.20507717, 7.03494296, 2.0888247 ,\n",
        "       2.91304965, 3.74982409, 4.57804241, 5.41299968, 6.23326082,\n",
        "       7.04347768]), 'std_score_time': np.array([0.01036214, 0.02832318, 0.01869056, 0.02496445, 0.01077313,\n",
        "       0.02769635, 0.03431894, 0.01645464, 0.01840852, 0.02395341,\n",
        "       0.04550922, 0.02683643, 0.03496212, 0.01066601, 0.01305774,\n",
        "       0.01036645, 0.023149  , 0.03521946, 0.02948698, 0.05234079,\n",
        "       0.06038899]), 'param_learning_rate': ma.masked_array(data=[0.01, 0.01, 0.01, 0.01, 0.01, 0.01, 0.01, 0.001, 0.001,\n",
        "                   0.001, 0.001, 0.001, 0.001, 0.001, 0.0001, 0.0001,\n",
        "                   0.0001, 0.0001, 0.0001, 0.0001, 0.0001],\n",
        "             mask=[False, False, False, False, False, False, False, False,\n",
        "                   False, False, False, False, False, False, False, False,\n",
        "                   False, False, False, False, False],\n",
        "       fill_value='?',\n",
        "            dtype=object), 'param_n_estimators': ma.masked_array(data=[500, 700, 900, 1100, 1300, 1500, 1700, 500, 700, 900,\n",
        "                   1100, 1300, 1500, 1700, 500, 700, 900, 1100, 1300,\n",
        "                   1500, 1700],\n",
        "             mask=[False, False, False, False, False, False, False, False,\n",
        "                   False, False, False, False, False, False, False, False,\n",
        "                   False, False, False, False, False],\n",
        "       fill_value='?',\n",
        "            dtype=object), 'params': [{'learning_rate': 0.01, 'n_estimators': 500}, {'learning_rate': 0.01, 'n_estimators': 700}, {'learning_rate': 0.01, 'n_estimators': 900}, {'learning_rate': 0.01, 'n_estimators': 1100}, {'learning_rate': 0.01, 'n_estimators': 1300}, {'learning_rate': 0.01, 'n_estimators': 1500}, {'learning_rate': 0.01, 'n_estimators': 1700}, {'learning_rate': 0.001, 'n_estimators': 500}, {'learning_rate': 0.001, 'n_estimators': 700}, {'learning_rate': 0.001, 'n_estimators': 900}, {'learning_rate': 0.001, 'n_estimators': 1100}, {'learning_rate': 0.001, 'n_estimators': 1300}, {'learning_rate': 0.001, 'n_estimators': 1500}, {'learning_rate': 0.001, 'n_estimators': 1700}, {'learning_rate': 0.0001, 'n_estimators': 500}, {'learning_rate': 0.0001, 'n_estimators': 700}, {'learning_rate': 0.0001, 'n_estimators': 900}, {'learning_rate': 0.0001, 'n_estimators': 1100}, {'learning_rate': 0.0001, 'n_estimators': 1300}, {'learning_rate': 0.0001, 'n_estimators': 1500}, {'learning_rate': 0.0001, 'n_estimators': 1700}], 'split0_test_score': np.array([0.24429576, 0.24481043, 0.24446732, 0.24566821, 0.24721221,\n",
        "       0.24721221, 0.24652599, 0.24909933, 0.24738377, 0.24789844,\n",
        "       0.24583977, 0.2425802 , 0.24446732, 0.24223709, 0.24909933,\n",
        "       0.24909933, 0.24909933, 0.24909933, 0.24909933, 0.24909933,\n",
        "       0.24909933]), 'split1_test_score': np.array([0.25291695, 0.25326012, 0.25377488, 0.25428964, 0.25531915,\n",
        "       0.25583391, 0.25566232, 0.26286891, 0.25377488, 0.25188744,\n",
        "       0.24897049, 0.24416609, 0.24605353, 0.24673988, 0.26201098,\n",
        "       0.26201098, 0.26201098, 0.26286891, 0.26286891, 0.26286891,\n",
        "       0.26286891]), 'split2_test_score': np.array([0.22983179, 0.22863028, 0.2279437 , 0.22674219, 0.22622726,\n",
        "       0.2263989 , 0.22571232, 0.23171988, 0.22897357, 0.22845863,\n",
        "       0.22777206, 0.22760041, 0.22845863, 0.22914521, 0.22657055,\n",
        "       0.22657055, 0.22657055, 0.22657055, 0.22657055, 0.23171988,\n",
        "       0.23171988]), 'split3_test_score': np.array([0.25107407, 0.25141777, 0.25124592, 0.25210517, 0.25347998,\n",
        "       0.25433923, 0.25279258, 0.2471215 , 0.2471215 , 0.25073037,\n",
        "       0.25347998, 0.25279258, 0.25210517, 0.25124592, 0.2471215 ,\n",
        "       0.2471215 , 0.2471215 , 0.2471215 , 0.2471215 , 0.2471215 ,\n",
        "       0.2471215 ]), 'split4_test_score': np.array([0.24475404, 0.24613003, 0.24613003, 0.24544204, 0.24595803,\n",
        "       0.24509804, 0.24561404, 0.24716202, 0.24716202, 0.24647403,\n",
        "       0.24647403, 0.24406605, 0.24406605, 0.24303406, 0.24578603,\n",
        "       0.24578603, 0.24578603, 0.24578603, 0.24716202, 0.24716202,\n",
        "       0.24716202]), 'mean_test_score': np.array([0.24457343, 0.24484819, 0.24471081, 0.24484819, 0.24563814,\n",
        "       0.24577552, 0.24526034, 0.24759582, 0.24488254, 0.24508861,\n",
        "       0.24450474, 0.24223794, 0.24302789, 0.24247836, 0.24611897,\n",
        "       0.24611897, 0.24611897, 0.2462907 , 0.24656546, 0.24759582,\n",
        "       0.24759582]), 'std_test_score': np.array([0.00811702, 0.00870329, 0.00903597, 0.00970413, 0.0103421 ,\n",
        "       0.01051377, 0.01047875, 0.00988233, 0.00835243, 0.00853905,\n",
        "       0.00878897, 0.00815911, 0.00783601, 0.00739209, 0.01135866,\n",
        "       0.01135866, 0.01135866, 0.01160151, 0.0116026 , 0.00988233,\n",
        "       0.00988233]), 'rank_test_score': np.array([17, 14, 16, 14, 10,  9, 11,  1, 13, 12, 18, 21, 19, 20,  6,  6,  6,\n",
        "        5,  4,  1,  1], dtype=np.int32), 'split0_train_score': np.array([0.24648946, 0.24631769, 0.24713359, 0.24773479, 0.2479495 ,\n",
        "       0.24721948, 0.24657534, 0.24721948, 0.24636063, 0.24580238,\n",
        "       0.24442822, 0.24537295, 0.24584532, 0.24588826, 0.24721948,\n",
        "       0.24721948, 0.24721948, 0.24721948, 0.24721948, 0.24721948,\n",
        "       0.24721948]), 'split1_train_score': np.array([0.24287187, 0.24295775, 0.24321539, 0.24261422, 0.24222776,\n",
        "       0.24179835, 0.24214188, 0.24381656, 0.24317245, 0.24278598,\n",
        "       0.24317245, 0.24291481, 0.24252834, 0.24239952, 0.241326  ,\n",
        "       0.241326  , 0.241326  , 0.24381656, 0.24381656, 0.24381656,\n",
        "       0.24381656]), 'split2_train_score': np.array([0.25139545, 0.25195363, 0.25289824, 0.25337055, 0.25397166,\n",
        "       0.25470159, 0.2548304 , 0.25161013, 0.25242593, 0.25169601,\n",
        "       0.25195363, 0.25148132, 0.25126664, 0.25135251, 0.25019322,\n",
        "       0.25019322, 0.25019322, 0.25019322, 0.25019322, 0.25161013,\n",
        "       0.25161013]), 'split3_train_score': np.array([0.24436623, 0.2446667 , 0.24479547, 0.24483839, 0.24522471,\n",
        "       0.24548225, 0.24445208, 0.24775722, 0.24775722, 0.24552517,\n",
        "       0.24479547, 0.24488132, 0.24436623, 0.24402284, 0.24775722,\n",
        "       0.24775722, 0.24775722, 0.24775722, 0.24775722, 0.24775722,\n",
        "       0.24775722]), 'split4_train_score': np.array([0.24564415, 0.24624496, 0.2460733 , 0.24645953, 0.24663119,\n",
        "       0.24667411, 0.24654536, 0.24774697, 0.24774697, 0.24718908,\n",
        "       0.24667411, 0.24560124, 0.24534375, 0.2460733 , 0.24538666,\n",
        "       0.24538666, 0.24538666, 0.24538666, 0.24774697, 0.24774697,\n",
        "       0.24774697]), 'mean_train_score': np.array([0.24615343, 0.24642814, 0.2468232 , 0.2470035 , 0.24720096,\n",
        "       0.24717515, 0.24690901, 0.24763007, 0.24749264, 0.24659973,\n",
        "       0.24620477, 0.24605033, 0.24587005, 0.24594729, 0.24637652,\n",
        "       0.24637652, 0.24637652, 0.24687463, 0.24734669, 0.24763007,\n",
        "       0.24763007]), 'std_train_score': np.array([0.00289184, 0.00302401, 0.00330735, 0.00361451, 0.00388241,\n",
        "       0.00421132, 0.00428379, 0.00247314, 0.00298052, 0.00292077,\n",
        "       0.00308567, 0.00287591, 0.00292675, 0.00301748, 0.00295539,\n",
        "       0.00295539, 0.00295539, 0.00216688, 0.00204497, 0.00247314,\n",
        "       0.00247314])}"
      ],
      "execution_count": 0,
      "outputs": []
    },
    {
      "metadata": {
        "id": "_2Gk_aQQeT1a",
        "colab_type": "code",
        "colab": {
          "base_uri": "https://localhost:8080/",
          "height": 404
        },
        "outputId": "0516ec6f-f176-45c2-b6a4-7b5478e55ad6"
      },
      "cell_type": "code",
      "source": [
        "plot_grid_search(cv_results_, parameters['n_estimators'], parameters['learning_rate'], 'N Estimators', 'Learning rate')"
      ],
      "execution_count": 20,
      "outputs": [
        {
          "output_type": "stream",
          "text": [
            "range(500, 1900, 200)\n"
          ],
          "name": "stdout"
        },
        {
          "output_type": "display_data",
          "data": {
            "image/png": "[encoded data removed]",
            "text/plain": [
              "<matplotlib.figure.Figure at 0x7f8faa391fd0>"
            ]
          },
          "metadata": {
            "tags": []
          }
        }
      ]
    },
    {
      "metadata": {
        "id": "CMKp19UQXznU",
        "colab_type": "code",
        "colab": {}
      },
      "cell_type": "code",
      "source": [
        "distance_euc = pickle.load( open(\"/content/drive/My Drive/Colab Notebooks/MPII_dataset_euclidean_distance.p\", \"rb\" ) )\n",
        "num_examples = distance_euc.shape[0]\n",
        "X = np.reshape(distance_euc, (num_examples, 16*16))\n",
        "\n",
        "print(\"Classyfying dataset = euclidean distance ...\")\n",
        "abc = AdaBoostClassifier()\n",
        "\n",
        "clf = GridSearchCV(abc, parameters, cv=5,return_train_score=True)\n",
        "clf.fit(X,categories)\n",
        "print(\"Best Score:\", clf.best_score_,\" / Best parameters:\", clf.best_params_, \"/clf_results: \",clf.cv_results_)\n",
        "\n"
      ],
      "execution_count": 0,
      "outputs": []
    },
    {
      "metadata": {
        "id": "6vNjbX9uhFbd",
        "colab_type": "code",
        "colab": {}
      },
      "cell_type": "code",
      "source": [
        "plot_grid_search(clf.cv_results_, parameters['n_estimators'], parameters['learning_rate'], 'N Estimators', 'Learning rate')"
      ],
      "execution_count": 0,
      "outputs": []
    },
    {
      "metadata": {
        "id": "nLiXl6zXZixW",
        "colab_type": "code",
        "colab": {}
      },
      "cell_type": "code",
      "source": [
        "distance_min_p1 = pickle.load( open( \"/content/drive/My Drive/Colab Notebooks/MPII_dataset_minkowski_p1.p\", \"rb\" ) )\n",
        "num_examples = distance_min_p1.shape[0]\n",
        "X = np.reshape(distance_min_p1, (num_examples, 16*16))\n",
        "\n",
        "print(\"Classyfying dataset = minkowski p=1 ...\")\n",
        "\n",
        "abc = AdaBoostClassifier()\n",
        "\n",
        "clf = GridSearchCV(abc, parameters, cv=5,return_train_score=True)\n",
        "clf.fit(X,categories)\n",
        "print(\"Best Score:\", clf.best_score_,\" / Best parameters:\", clf.best_params_, \"/clf_results: \",clf.cv_results_)"
      ],
      "execution_count": 0,
      "outputs": []
    },
    {
      "metadata": {
        "id": "HXEfoCvIhGkF",
        "colab_type": "code",
        "colab": {}
      },
      "cell_type": "code",
      "source": [
        "plot_grid_search(clf.cv_results_, parameters['n_estimators'], parameters['learning_rate'], 'N Estimators', 'Learning rate')"
      ],
      "execution_count": 0,
      "outputs": []
    },
    {
      "metadata": {
        "id": "Wt4q6EUCYcu5",
        "colab_type": "code",
        "colab": {}
      },
      "cell_type": "code",
      "source": [
        "distance_min_p3 = pickle.load( open( \"/content/drive/My Drive/Colab Notebooks/MPII_dataset_minkowski_p3.p\", \"rb\" ) )\n",
        "num_examples = distance_min_p3.shape[0]\n",
        "X = np.reshape(distance_min_p3, (num_examples, 16*16))\n",
        "\n",
        "print(\"Classyfying dataset = minkowski p=3 ...\")\n",
        "\n",
        "abc = AdaBoostClassifier()\n",
        "\n",
        "clf = GridSearchCV(abc, parameters, cv=5,return_train_score=True)\n",
        "clf.fit(X,categories)\n",
        "print(\"Best Score:\", clf.best_score_,\" / Best parameters:\", clf.best_params_, \"/clf_results: \",clf.cv_results_)\n"
      ],
      "execution_count": 0,
      "outputs": []
    },
    {
      "metadata": {
        "id": "mazUBkUMhRDf",
        "colab_type": "code",
        "colab": {}
      },
      "cell_type": "code",
      "source": [
        "plot_grid_search(clf.cv_results_, parameters['n_estimators'], parameters['learning_rate'], 'N Estimators', 'Learning rate')"
      ],
      "execution_count": 0,
      "outputs": []
    },
    {
      "metadata": {
        "id": "ihRLSooAYb3D",
        "colab_type": "code",
        "colab": {}
      },
      "cell_type": "code",
      "source": [
        "distance_cos = pickle.load( open( \"/content/drive/My Drive/Colab Notebooks/MPII_dataset_cosine.p\", \"rb\" ) )\n",
        "num_examples = distance_cos.shape[0]\n",
        "X = np.reshape(distance_cos, (num_examples, 16*16))\n",
        "\n",
        "print(\"Classyfying dataset = cosinus ...\")\n",
        "\n",
        "abc = AdaBoostClassifier()\n",
        "\n",
        "clf = GridSearchCV(abc, parameters, cv=5,return_train_score=True)\n",
        "clf.fit(X,categories)\n",
        "print(\"Best Score:\", clf.best_score_,\" / Best parameters:\", clf.best_params_, \"/clf_results: \",clf.cv_results_)\n",
        "\n"
      ],
      "execution_count": 0,
      "outputs": []
    },
    {
      "metadata": {
        "id": "d4zHwvvnhTDv",
        "colab_type": "code",
        "colab": {}
      },
      "cell_type": "code",
      "source": [
        "plot_grid_search(clf.cv_results_, parameters['n_estimators'], parameters['learning_rate'], 'N Estimators', 'Learning rate')"
      ],
      "execution_count": 0,
      "outputs": []
    }
  ]
}