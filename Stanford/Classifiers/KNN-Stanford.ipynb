{
 "cells": [
  {
   "cell_type": "code",
   "execution_count": 122,
   "metadata": {},
   "outputs": [],
   "source": [
    "from sklearn.neighbors import NearestNeighbors\n",
    "from sklearn.neighbors import KNeighborsClassifier\n",
    "import os\n",
    "import numpy as np\n",
    "import pickle\n",
    "import time"
   ]
  },
  {
   "cell_type": "code",
   "execution_count": 140,
   "metadata": {},
   "outputs": [],
   "source": [
    "#Ajout de la distance tangente avec le mauvais nom de variable\n",
    "joints = []\n",
    "with open('stanford_data_set/stanford_joints_pose.p','rb') as jar:\n",
    "    joints = pickle.load(jar)\n",
    "\n",
    "label = []\n",
    "with open('stanford_data_set/stanford_labels.p','rb') as jar:\n",
    "    label = pickle.load(jar)\n"
   ]
  },
  {
   "cell_type": "code",
   "execution_count": 141,
   "metadata": {},
   "outputs": [
    {
     "name": "stdout",
     "output_type": "stream",
     "text": [
      "(9399, 18, 3)\n",
      "(9399, 18, 2)\n"
     ]
    }
   ],
   "source": [
    "X = np.array([x.tolist() for x in joints])\n",
    "print(X.shape)\n",
    "#print(X[:,:,:-1])\n",
    "joints = X[:,:,:-1]\n",
    "print(joints.shape)\n",
    "\n",
    "joints = joints.reshape(joints.shape[0],36)"
   ]
  },
  {
   "cell_type": "code",
   "execution_count": 142,
   "metadata": {},
   "outputs": [
    {
     "name": "stdout",
     "output_type": "stream",
     "text": [
      "(9399, 36)\n"
     ]
    }
   ],
   "source": [
    "print(joints.shape)"
   ]
  },
  {
   "cell_type": "code",
   "execution_count": 143,
   "metadata": {},
   "outputs": [],
   "source": [
    "ntrain = 8500\n",
    "ntest = 899\n",
    "\n",
    "x_train = joints[:ntrain]\n",
    "x_test  = joints[ntrain:]\n",
    "\n",
    "y_train = label[:ntrain]\n",
    "y_test  = label[ntrain:]"
   ]
  },
  {
   "cell_type": "code",
   "execution_count": 144,
   "metadata": {},
   "outputs": [
    {
     "name": "stdout",
     "output_type": "stream",
     "text": [
      "8500\n",
      "899\n"
     ]
    }
   ],
   "source": [
    "print(len(x_train))\n",
    "print(len(x_test))"
   ]
  },
  {
   "cell_type": "code",
   "execution_count": 159,
   "metadata": {},
   "outputs": [
    {
     "name": "stdout",
     "output_type": "stream",
     "text": [
      "(8500, 36)\n",
      "25.139043381535036\n"
     ]
    },
    {
     "data": {
      "text/plain": [
       "array(['playing_violin'], dtype='<U28')"
      ]
     },
     "execution_count": 159,
     "metadata": {},
     "output_type": "execute_result"
    }
   ],
   "source": [
    "knn = KNeighborsClassifier(n_neighbors=8)\n",
    "print(x_train.shape)\n",
    "knn.fit(x_train, y_train)\n",
    "print(knn.score(x_test,y_test)*100)\n",
    "knn.predict([x_test[0]])"
   ]
  },
  {
   "cell_type": "code",
   "execution_count": 195,
   "metadata": {},
   "outputs": [],
   "source": [
    "k = 100\n",
    "table.clear()\n",
    "for i in range(k):\n",
    "        knn = KNeighborsClassifier(n_neighbors=i+1)\n",
    "        knn.fit(x_train, y_train)\n",
    "        x = knn.score(x_test,y_test)*100\n",
    "        table.append(x)\n",
    "    \n"
   ]
  },
  {
   "cell_type": "code",
   "execution_count": 196,
   "metadata": {},
   "outputs": [
    {
     "name": "stdout",
     "output_type": "stream",
     "text": [
      "FIND THE BEST VALUE OF K ON VALIDATION SUB-SET\n",
      "Meilleur résultat avec k = 17\n",
      "Taux d'erreur sur l'ensemble de test 25.583982202447164\n"
     ]
    }
   ],
   "source": [
    "print(\"FIND THE BEST VALUE OF K ON VALIDATION SUB-SET\")\n",
    "print(\"Meilleur résultat avec k =\", table.index(max(table)))\n",
    "print(\"Taux d'erreur sur l'ensemble de test\", max(table))\n",
    "\n"
   ]
  },
  {
   "cell_type": "code",
   "execution_count": 197,
   "metadata": {},
   "outputs": [
    {
     "name": "stdout",
     "output_type": "stream",
     "text": [
      "100\n"
     ]
    }
   ],
   "source": [
    "print(len(table))"
   ]
  },
  {
   "cell_type": "code",
   "execution_count": null,
   "metadata": {},
   "outputs": [],
   "source": []
  },
  {
   "cell_type": "code",
   "execution_count": null,
   "metadata": {},
   "outputs": [],
   "source": []
  }
 ],
 "metadata": {
  "kernelspec": {
   "display_name": "Python 3",
   "language": "python",
   "name": "python3"
  },
  "language_info": {
   "codemirror_mode": {
    "name": "ipython",
    "version": 3
   },
   "file_extension": ".py",
   "mimetype": "text/x-python",
   "name": "python",
   "nbconvert_exporter": "python",
   "pygments_lexer": "ipython3",
   "version": "3.6.5"
  }
 },
 "nbformat": 4,
 "nbformat_minor": 2
}
